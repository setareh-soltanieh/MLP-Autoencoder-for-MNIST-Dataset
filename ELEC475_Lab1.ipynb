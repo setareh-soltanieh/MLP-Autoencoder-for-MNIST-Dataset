{
  "nbformat": 4,
  "nbformat_minor": 0,
  "metadata": {
    "colab": {
      "provenance": []
    },
    "kernelspec": {
      "name": "python3",
      "display_name": "Python 3"
    },
    "language_info": {
      "name": "python"
    }
  },
  "cells": [
    {
      "cell_type": "code",
      "execution_count": null,
      "metadata": {
        "id": "EUfbZH7DjakL"
      },
      "outputs": [],
      "source": [
        "import numpy as np\n",
        "import torch\n",
        "import matplotlib.pyplot as plt\n",
        "import torch.nn as nn\n",
        "import torch.nn.functional as F\n",
        "import torch.optim as optim\n",
        "from torch.utils.data import DataLoader, TensorDataset, random_split\n",
        "from IPython.lib.pretty import datetime\n",
        "import torch.optim.lr_scheduler as lr_scheduler"
      ]
    },
    {
      "cell_type": "markdown",
      "source": [
        "Loading MNIST dataset"
      ],
      "metadata": {
        "id": "pYdwUPLGlUnU"
      }
    },
    {
      "cell_type": "code",
      "source": [
        "import torchvision.transforms as transforms\n",
        "import torchvision\n",
        "\n",
        "# Download the training dataset\n",
        "train_transforms = transforms.Compose([transforms.ToTensor()])\n",
        "train_dataset = torchvision.datasets.MNIST(root='./data', train=True, transform=train_transforms, download=True)\n",
        "\n",
        "# Download the testing dataset\n",
        "test_dataset = torchvision.datasets.MNIST(root='./data', train=False, transform=train_transforms, download=True)"
      ],
      "metadata": {
        "id": "BsHmS5TulB1I",
        "colab": {
          "base_uri": "https://localhost:8080/"
        },
        "outputId": "fdbe3d37-57e5-43d7-d1ab-b7b03e606359"
      },
      "execution_count": null,
      "outputs": [
        {
          "output_type": "stream",
          "name": "stdout",
          "text": [
            "Downloading http://yann.lecun.com/exdb/mnist/train-images-idx3-ubyte.gz\n",
            "Downloading http://yann.lecun.com/exdb/mnist/train-images-idx3-ubyte.gz to ./data/MNIST/raw/train-images-idx3-ubyte.gz\n"
          ]
        },
        {
          "output_type": "stream",
          "name": "stderr",
          "text": [
            "100%|██████████| 9912422/9912422 [00:00<00:00, 71714408.60it/s]\n"
          ]
        },
        {
          "output_type": "stream",
          "name": "stdout",
          "text": [
            "Extracting ./data/MNIST/raw/train-images-idx3-ubyte.gz to ./data/MNIST/raw\n",
            "\n",
            "Downloading http://yann.lecun.com/exdb/mnist/train-labels-idx1-ubyte.gz\n",
            "Downloading http://yann.lecun.com/exdb/mnist/train-labels-idx1-ubyte.gz to ./data/MNIST/raw/train-labels-idx1-ubyte.gz\n"
          ]
        },
        {
          "output_type": "stream",
          "name": "stderr",
          "text": [
            "100%|██████████| 28881/28881 [00:00<00:00, 56738029.89it/s]"
          ]
        },
        {
          "output_type": "stream",
          "name": "stdout",
          "text": [
            "Extracting ./data/MNIST/raw/train-labels-idx1-ubyte.gz to ./data/MNIST/raw\n",
            "\n",
            "Downloading http://yann.lecun.com/exdb/mnist/t10k-images-idx3-ubyte.gz\n"
          ]
        },
        {
          "output_type": "stream",
          "name": "stderr",
          "text": [
            "\n"
          ]
        },
        {
          "output_type": "stream",
          "name": "stdout",
          "text": [
            "Downloading http://yann.lecun.com/exdb/mnist/t10k-images-idx3-ubyte.gz to ./data/MNIST/raw/t10k-images-idx3-ubyte.gz\n"
          ]
        },
        {
          "output_type": "stream",
          "name": "stderr",
          "text": [
            "100%|██████████| 1648877/1648877 [00:00<00:00, 40632954.55it/s]"
          ]
        },
        {
          "output_type": "stream",
          "name": "stdout",
          "text": [
            "Extracting ./data/MNIST/raw/t10k-images-idx3-ubyte.gz to ./data/MNIST/raw\n",
            "\n",
            "Downloading http://yann.lecun.com/exdb/mnist/t10k-labels-idx1-ubyte.gz\n"
          ]
        },
        {
          "output_type": "stream",
          "name": "stderr",
          "text": [
            "\n"
          ]
        },
        {
          "output_type": "stream",
          "name": "stdout",
          "text": [
            "Downloading http://yann.lecun.com/exdb/mnist/t10k-labels-idx1-ubyte.gz to ./data/MNIST/raw/t10k-labels-idx1-ubyte.gz\n"
          ]
        },
        {
          "output_type": "stream",
          "name": "stderr",
          "text": [
            "100%|██████████| 4542/4542 [00:00<00:00, 10393087.16it/s]\n"
          ]
        },
        {
          "output_type": "stream",
          "name": "stdout",
          "text": [
            "Extracting ./data/MNIST/raw/t10k-labels-idx1-ubyte.gz to ./data/MNIST/raw\n",
            "\n"
          ]
        }
      ]
    },
    {
      "cell_type": "code",
      "source": [
        "plt.imshow(train_dataset.data[0], cmap='gray')\n",
        "train_dataset.targets[0].item()"
      ],
      "metadata": {
        "colab": {
          "base_uri": "https://localhost:8080/",
          "height": 447
        },
        "id": "4c0FKd4WkI-V",
        "outputId": "39aa828d-7cb6-45f9-e802-5534280bb214"
      },
      "execution_count": null,
      "outputs": [
        {
          "output_type": "execute_result",
          "data": {
            "text/plain": [
              "5"
            ]
          },
          "metadata": {},
          "execution_count": 3
        },
        {
          "output_type": "display_data",
          "data": {
            "text/plain": [
              "<Figure size 640x480 with 1 Axes>"
            ],
            "image/png": "[encoded data removed]"
          },
          "metadata": {}
        }
      ]
    },
    {
      "cell_type": "markdown",
      "source": [
        "# 2. Visualizing the MNIST Dataset"
      ],
      "metadata": {
        "id": "MUA70eihmPz9"
      }
    },
    {
      "cell_type": "code",
      "source": [
        "def visualize_number(input_number):\n",
        "  plt.imshow(train_dataset.data[input_number], cmap='gray')\n",
        "  plt.title(train_dataset.targets[input_number].item())\n",
        "\n",
        "\n",
        "\n",
        "visualize_number(1)"
      ],
      "metadata": {
        "colab": {
          "base_uri": "https://localhost:8080/",
          "height": 452
        },
        "id": "F71G9_9DmOH3",
        "outputId": "8ec59b97-3131-4749-e97c-af1cbc786348"
      },
      "execution_count": null,
      "outputs": [
        {
          "output_type": "display_data",
          "data": {
            "text/plain": [
              "<Figure size 640x480 with 1 Axes>"
            ],
            "image/png": "[encoded data removed]"
          },
          "metadata": {}
        }
      ]
    },
    {
      "cell_type": "markdown",
      "source": [
        "# 3. Implement and Train an MLP Autoencoder"
      ],
      "metadata": {
        "id": "AQtoX5jCn-Gr"
      }
    },
    {
      "cell_type": "code",
      "source": [
        "class autoencoderMLP4Layer(nn.Module):\n",
        "\n",
        "  def __init__(self, N_inputs=784, N_bottleneck=8, N_outputs=784):\n",
        "    super(autoencoderMLP4Layer, self).__init__()\n",
        "    N2 = 392\n",
        "    self.fc1 = nn.Linear(N_inputs, N2)\n",
        "    self.fc2 = nn.Linear(N2, N_bottleneck)\n",
        "    self.fc3 = nn.Linear(N_bottleneck, N2)\n",
        "    self.fc4 = nn.Linear(N2, N_outputs)\n",
        "    self.type = 'MLP4'\n",
        "    self.input_shape = (1, 28*28)\n",
        "\n",
        "  def forward(self, X):\n",
        "    # ENCODER\n",
        "    X = self.fc1(X)\n",
        "    X = F.relu(X)\n",
        "    X = self.fc2(X)\n",
        "    X = F.relu(X)\n",
        "\n",
        "    # DECODER\n",
        "    X = self.fc3(X)\n",
        "    X = F.relu(X)\n",
        "    X = self.fc4(X)\n",
        "    X = torch.sigmoid(X)\n",
        "\n",
        "    return X\n",
        "\n",
        "  def encode(self, X):\n",
        "    # ENCODER\n",
        "    X = self.fc1(X)\n",
        "    X = F.relu(X)\n",
        "    X = self.fc2(X)\n",
        "    X = F.relu(X)\n",
        "\n",
        "    return X\n",
        "\n",
        "  def decode(self, X):\n",
        "    # DECODER\n",
        "    X = self.fc3(X)\n",
        "    X = F.relu(X)\n",
        "    X = self.fc4(X)\n",
        "    X = torch.sigmoid(X)\n",
        "\n",
        "    return X\n",
        "\n",
        "model = autoencoderMLP4Layer()"
      ],
      "metadata": {
        "id": "HvVI6_XJoBI4"
      },
      "execution_count": null,
      "outputs": []
    },
    {
      "cell_type": "markdown",
      "source": [
        "Converting the flat images (784) to images"
      ],
      "metadata": {
        "id": "jSwVsEMEDBau"
      }
    },
    {
      "cell_type": "code",
      "source": [
        "def make_28_by_28(flat_input):\n",
        "  res = []\n",
        "  for i in range(28):\n",
        "    row = []\n",
        "    for j in range(28):\n",
        "      row.append(flat_input[j].item())\n",
        "    res.append(row)\n",
        "  return res"
      ],
      "metadata": {
        "id": "UTCcOCb6C-wJ"
      },
      "execution_count": null,
      "outputs": []
    },
    {
      "cell_type": "markdown",
      "source": [
        "Model Summary"
      ],
      "metadata": {
        "id": "SytREnwGveVd"
      }
    },
    {
      "cell_type": "code",
      "source": [
        "from torchsummary import summary\n",
        "\n",
        "summary(model, (1, 784))"
      ],
      "metadata": {
        "colab": {
          "base_uri": "https://localhost:8080/"
        },
        "id": "2aBbsnEts7i5",
        "outputId": "d20f8d5a-a57d-4da5-916a-e7e57de45016"
      },
      "execution_count": null,
      "outputs": [
        {
          "output_type": "stream",
          "name": "stdout",
          "text": [
            "----------------------------------------------------------------\n",
            "        Layer (type)               Output Shape         Param #\n",
            "================================================================\n",
            "            Linear-1               [-1, 1, 392]         307,720\n",
            "            Linear-2                 [-1, 1, 8]           3,144\n",
            "            Linear-3               [-1, 1, 392]           3,528\n",
            "            Linear-4               [-1, 1, 784]         308,112\n",
            "================================================================\n",
            "Total params: 622,504\n",
            "Trainable params: 622,504\n",
            "Non-trainable params: 0\n",
            "----------------------------------------------------------------\n",
            "Input size (MB): 0.00\n",
            "Forward/backward pass size (MB): 0.01\n",
            "Params size (MB): 2.37\n",
            "Estimated Total Size (MB): 2.39\n",
            "----------------------------------------------------------------\n"
          ]
        }
      ]
    },
    {
      "cell_type": "markdown",
      "source": [
        "# Train the Model"
      ],
      "metadata": {
        "id": "zqdf_Bs-vgPJ"
      }
    },
    {
      "cell_type": "code",
      "source": [
        "def train(n_epochs, optimizer, model, loss_fn, train_loader, scheduler, device):\n",
        "\n",
        "  print('Training ...')\n",
        "  model.train()\n",
        "  losses_train = []\n",
        "  num_batches = len(train_loader)\n",
        "\n",
        "  for epoch in range(n_epochs):\n",
        "    print('epoch ', epoch+1)\n",
        "    loss_train = 0.0\n",
        "    for imgs, labels in train_loader:\n",
        "      imgs = imgs.to(device=device)\n",
        "      flat_input = imgs.view(-1, 1, 28 * 28).to(dtype=torch.float32)\n",
        "      outputs = model(flat_input)\n",
        "      optimizer.zero_grad()\n",
        "      loss = loss_fn(outputs, flat_input)\n",
        "      loss.backward()\n",
        "      optimizer.step()\n",
        "      loss_train += loss.item()\n",
        "\n",
        "    scheduler.step(loss_train)\n",
        "\n",
        "    # Calculate the average loss for this epoch\n",
        "    avg_loss_train = loss_train / num_batches\n",
        "    losses_train.append(avg_loss_train)\n",
        "\n",
        "     # Print optimizer's state\n",
        "    for group in optimizer.param_groups:\n",
        "      print(f\"Learning Rate: {group['lr']}\")\n",
        "\n",
        "\n",
        "    print('{} Epoch {}, Training loss {}'.format(datetime.datetime.now(), epoch+1, avg_loss_train))\n",
        "  return losses_train\n"
      ],
      "metadata": {
        "id": "ZG6iqsuDvGLu"
      },
      "execution_count": null,
      "outputs": []
    },
    {
      "cell_type": "markdown",
      "source": [
        "Specify the device type"
      ],
      "metadata": {
        "id": "6ScheaON1mar"
      }
    },
    {
      "cell_type": "code",
      "source": [
        "if torch.cuda.is_available():\n",
        "    device = torch.device('cuda:0')  # Use the first GPU\n",
        "    print(torch.cuda.get_device_name(0))  # Print GPU name\n",
        "else:\n",
        "    device = torch.device('cpu')\n",
        "    print(\"GPU is not available. Using CPU.\")"
      ],
      "metadata": {
        "colab": {
          "base_uri": "https://localhost:8080/"
        },
        "id": "-T9OvEu01o9r",
        "outputId": "09ce01f1-2492-470e-bdc4-a5f5104629d9"
      },
      "execution_count": null,
      "outputs": [
        {
          "output_type": "stream",
          "name": "stdout",
          "text": [
            "GPU is not available. Using CPU.\n"
          ]
        }
      ]
    },
    {
      "cell_type": "markdown",
      "source": [
        "Load data in the DataLoader"
      ],
      "metadata": {
        "id": "LdakAn-S0GLV"
      }
    },
    {
      "cell_type": "code",
      "source": [
        "batch_size = 1024\n",
        "\n",
        "train_loader = DataLoader(train_dataset, batch_size=batch_size, shuffle=True)\n",
        "test_loader = DataLoader(test_dataset, batch_size=batch_size, shuffle=False)"
      ],
      "metadata": {
        "id": "5srJ2p0L3TWc"
      },
      "execution_count": null,
      "outputs": []
    },
    {
      "cell_type": "code",
      "source": [
        "images, labels = next(iter(train_loader))\n",
        "print(images.shape, labels.shape)"
      ],
      "metadata": {
        "colab": {
          "base_uri": "https://localhost:8080/"
        },
        "id": "RCq1kBclhq1W",
        "outputId": "d4d87a7b-e9a6-48ef-e9f8-d81e75f179e7"
      },
      "execution_count": null,
      "outputs": [
        {
          "output_type": "stream",
          "name": "stdout",
          "text": [
            "torch.Size([1024, 1, 28, 28]) torch.Size([1024])\n"
          ]
        }
      ]
    },
    {
      "cell_type": "markdown",
      "source": [
        "Train the Model and Save the weights to 'model.pth'"
      ],
      "metadata": {
        "id": "RnlXWJ3OH-tA"
      }
    },
    {
      "cell_type": "code",
      "source": [
        "n_epochs = 50\n",
        "weight_decay = 1e-5\n",
        "optimizer = torch.optim.Adam(model.parameters(), lr=1e-3, weight_decay=weight_decay)\n",
        "loss_fn = nn.MSELoss()\n",
        "scheduler = lr_scheduler.ReduceLROnPlateau(optimizer, mode='min', patience=5, factor=0.1)\n",
        "\n",
        "losses_train = train(n_epochs, optimizer, model, loss_fn, train_loader, scheduler, device)\n",
        "\n",
        "# Save the model\n",
        "torch.save(model,'model.pth')"
      ],
      "metadata": {
        "colab": {
          "base_uri": "https://localhost:8080/"
        },
        "id": "9oaZlr1PvtPV",
        "outputId": "01f9b0c2-1b86-482b-d3ac-693b09fcb75d"
      },
      "execution_count": null,
      "outputs": [
        {
          "output_type": "stream",
          "name": "stdout",
          "text": [
            "Training ...\n",
            "epoch  1\n",
            "Learning Rate: 0.001\n",
            "2023-09-20 17:51:12.175799 Epoch 1, Training loss 0.08599462353829611\n",
            "epoch  2\n",
            "Learning Rate: 0.001\n",
            "2023-09-20 17:51:28.710188 Epoch 2, Training loss 0.05281822231866545\n",
            "epoch  3\n",
            "Learning Rate: 0.001\n",
            "2023-09-20 17:51:41.079082 Epoch 3, Training loss 0.04347676676461252\n",
            "epoch  4\n",
            "Learning Rate: 0.001\n",
            "2023-09-20 17:51:56.628922 Epoch 4, Training loss 0.038173081258596\n",
            "epoch  5\n",
            "Learning Rate: 0.001\n",
            "2023-09-20 17:52:08.638418 Epoch 5, Training loss 0.035804910111730384\n",
            "epoch  6\n",
            "Learning Rate: 0.001\n",
            "2023-09-20 17:52:22.510223 Epoch 6, Training loss 0.03441573351116504\n",
            "epoch  7\n",
            "Learning Rate: 0.001\n",
            "2023-09-20 17:52:35.797065 Epoch 7, Training loss 0.03344992188326383\n",
            "epoch  8\n",
            "Learning Rate: 0.001\n",
            "2023-09-20 17:52:49.208113 Epoch 8, Training loss 0.03270939383971489\n",
            "epoch  9\n",
            "Learning Rate: 0.001\n",
            "2023-09-20 17:53:06.796215 Epoch 9, Training loss 0.03214249033796585\n",
            "epoch  10\n",
            "Learning Rate: 0.001\n",
            "2023-09-20 17:53:20.356612 Epoch 10, Training loss 0.03167262828072249\n",
            "epoch  11\n",
            "Learning Rate: 0.001\n",
            "2023-09-20 17:53:38.481959 Epoch 11, Training loss 0.03125195846087852\n",
            "epoch  12\n",
            "Learning Rate: 0.001\n",
            "2023-09-20 17:53:50.908653 Epoch 12, Training loss 0.030855118723238928\n",
            "epoch  13\n",
            "Learning Rate: 0.001\n",
            "2023-09-20 17:54:07.153049 Epoch 13, Training loss 0.03059036126833851\n",
            "epoch  14\n",
            "Learning Rate: 0.001\n",
            "2023-09-20 17:54:19.757659 Epoch 14, Training loss 0.030232665618344888\n",
            "epoch  15\n",
            "Learning Rate: 0.001\n",
            "2023-09-20 17:54:35.529818 Epoch 15, Training loss 0.028907154165839746\n",
            "epoch  16\n",
            "Learning Rate: 0.001\n",
            "2023-09-20 17:54:48.654983 Epoch 16, Training loss 0.027994583723908763\n",
            "epoch  17\n",
            "Learning Rate: 0.001\n",
            "2023-09-20 17:55:04.795912 Epoch 17, Training loss 0.027425528709161078\n",
            "epoch  18\n",
            "Learning Rate: 0.001\n",
            "2023-09-20 17:55:20.670767 Epoch 18, Training loss 0.027052301218954182\n",
            "epoch  19\n",
            "Learning Rate: 0.001\n",
            "2023-09-20 17:55:38.821067 Epoch 19, Training loss 0.02674194447443647\n",
            "epoch  20\n",
            "Learning Rate: 0.001\n",
            "2023-09-20 17:55:58.378974 Epoch 20, Training loss 0.026466802457126522\n",
            "epoch  21\n",
            "Learning Rate: 0.001\n",
            "2023-09-20 17:56:24.583571 Epoch 21, Training loss 0.02627697688038066\n",
            "epoch  22\n",
            "Learning Rate: 0.001\n",
            "2023-09-20 17:56:52.750206 Epoch 22, Training loss 0.026101341313224728\n",
            "epoch  23\n",
            "Learning Rate: 0.001\n",
            "2023-09-20 17:57:37.567967 Epoch 23, Training loss 0.025940318449826565\n",
            "epoch  24\n",
            "Learning Rate: 0.001\n",
            "2023-09-20 17:58:32.654429 Epoch 24, Training loss 0.025781332499394984\n",
            "epoch  25\n",
            "Learning Rate: 0.001\n",
            "2023-09-20 17:59:26.364345 Epoch 25, Training loss 0.02565286453750174\n",
            "epoch  26\n",
            "Learning Rate: 0.001\n",
            "2023-09-20 18:00:14.066893 Epoch 26, Training loss 0.0255346646122003\n",
            "epoch  27\n",
            "Learning Rate: 0.001\n",
            "2023-09-20 18:01:08.550945 Epoch 27, Training loss 0.025407514298113727\n",
            "epoch  28\n",
            "Learning Rate: 0.001\n",
            "2023-09-20 18:02:02.249240 Epoch 28, Training loss 0.02530169367032536\n",
            "epoch  29\n",
            "Learning Rate: 0.001\n",
            "2023-09-20 18:02:51.350029 Epoch 29, Training loss 0.025196298136044355\n",
            "epoch  30\n",
            "Learning Rate: 0.001\n",
            "2023-09-20 18:03:45.327514 Epoch 30, Training loss 0.025127447320748182\n",
            "epoch  31\n",
            "Learning Rate: 0.001\n",
            "2023-09-20 18:04:32.573384 Epoch 31, Training loss 0.025008623125189443\n",
            "epoch  32\n",
            "Learning Rate: 0.001\n",
            "2023-09-20 18:05:26.962083 Epoch 32, Training loss 0.024929830046781037\n",
            "epoch  33\n",
            "Learning Rate: 0.001\n",
            "2023-09-20 18:06:19.434802 Epoch 33, Training loss 0.0248581737406173\n",
            "epoch  34\n",
            "Learning Rate: 0.001\n",
            "2023-09-20 18:07:06.047543 Epoch 34, Training loss 0.024770597816776423\n",
            "epoch  35\n",
            "Learning Rate: 0.001\n",
            "2023-09-20 18:07:59.415377 Epoch 35, Training loss 0.024707178632586688\n",
            "epoch  36\n",
            "Learning Rate: 0.001\n",
            "2023-09-20 18:08:50.849131 Epoch 36, Training loss 0.024661289906855358\n",
            "epoch  37\n",
            "Learning Rate: 0.001\n",
            "2023-09-20 18:09:44.279629 Epoch 37, Training loss 0.02457566770835448\n",
            "epoch  38\n",
            "Learning Rate: 0.001\n",
            "2023-09-20 18:10:45.320326 Epoch 38, Training loss 0.024532979038559784\n",
            "epoch  39\n",
            "Learning Rate: 0.001\n",
            "2023-09-20 18:11:37.592621 Epoch 39, Training loss 0.02447717971468376\n",
            "epoch  40\n",
            "Learning Rate: 0.001\n",
            "2023-09-20 18:12:26.811241 Epoch 40, Training loss 0.024393382308594252\n",
            "epoch  41\n",
            "Learning Rate: 0.001\n",
            "2023-09-20 18:13:21.466507 Epoch 41, Training loss 0.023853401953386047\n",
            "epoch  42\n",
            "Learning Rate: 0.001\n",
            "2023-09-20 18:14:10.131094 Epoch 42, Training loss 0.023393524431828724\n",
            "epoch  43\n",
            "Learning Rate: 0.001\n",
            "2023-09-20 18:14:52.137135 Epoch 43, Training loss 0.023132810495414977\n",
            "epoch  44\n",
            "Learning Rate: 0.001\n",
            "2023-09-20 18:15:35.756570 Epoch 44, Training loss 0.022904699794569258\n",
            "epoch  45\n",
            "Learning Rate: 0.001\n",
            "2023-09-20 18:16:23.505976 Epoch 45, Training loss 0.022775266856207687\n",
            "epoch  46\n",
            "Learning Rate: 0.001\n",
            "2023-09-20 18:17:02.573735 Epoch 46, Training loss 0.022637099248625465\n",
            "epoch  47\n",
            "Learning Rate: 0.001\n",
            "2023-09-20 18:17:45.762687 Epoch 47, Training loss 0.022518313221507155\n",
            "epoch  48\n",
            "Learning Rate: 0.001\n",
            "2023-09-20 18:18:31.594980 Epoch 48, Training loss 0.022414853133387484\n",
            "epoch  49\n",
            "Learning Rate: 0.001\n",
            "2023-09-20 18:19:12.045878 Epoch 49, Training loss 0.022343631297097367\n",
            "epoch  50\n",
            "Learning Rate: 0.001\n",
            "2023-09-20 18:19:49.468854 Epoch 50, Training loss 0.02227293984112093\n"
          ]
        }
      ]
    },
    {
      "cell_type": "code",
      "source": [
        "epochs = range(1, len(losses_train) + 1)\n",
        "\n",
        "plt.figure(figsize=(10, 6))\n",
        "plt.plot(epochs, losses_train, label='Training Loss')\n",
        "# plt.plot(epochs, val_losses, label='Validation Loss')\n",
        "plt.xlabel('Epoch')\n",
        "plt.ylabel('Loss')\n",
        "plt.title('Training and Validation Loss')\n",
        "plt.legend()\n",
        "plt.grid(True)\n",
        "plt.show()"
      ],
      "metadata": {
        "colab": {
          "base_uri": "https://localhost:8080/",
          "height": 564
        },
        "id": "ioB6jmbTvAaV",
        "outputId": "56ba638d-90db-4271-b64d-e9e63629a4c7"
      },
      "execution_count": null,
      "outputs": [
        {
          "output_type": "display_data",
          "data": {
            "text/plain": [
              "<Figure size 1000x600 with 1 Axes>"
            ],
            "image/png": "[encoded data removed]"
          },
          "metadata": {}
        }
      ]
    },
    {
      "cell_type": "markdown",
      "source": [
        "Load the model"
      ],
      "metadata": {
        "id": "9vz8MMQ5g8pS"
      }
    },
    {
      "cell_type": "code",
      "source": [
        "# Load the model\n",
        "model = torch.load('/content/model.pth')"
      ],
      "metadata": {
        "id": "uOdVLqiTg-NY"
      },
      "execution_count": null,
      "outputs": []
    },
    {
      "cell_type": "code",
      "source": [
        "def visualize_number_reconstruction(input_image, model):\n",
        "  model.eval()\n",
        "\n",
        "  flat_input = input_image.view(1, 1, -1).to(dtype=torch.float32)\n",
        "\n",
        "  # Pass the input through the model to get the output\n",
        "  with torch.no_grad():  # Use no_grad to disable gradient computation for inference\n",
        "      res = model(flat_input)\n",
        "\n",
        "  # Assuming res is a 1D tensor with 784 elements\n",
        "  res = res.view(1, 28, 28)  # Reshape to a 28x28 tensor\n",
        "  res_img = res.cpu().numpy()\n",
        "\n",
        "  fig = plt.figure()\n",
        "  ax1 = plt.subplot(121)\n",
        "  plt.imshow(input_tensor, cmap='gray')\n",
        "  ax1.set_title('Input')\n",
        "  ax2 = plt.subplot(122)\n",
        "  plt.imshow(res_img[0], cmap='gray')\n",
        "  ax2.set_title('Reconstruction')\n",
        "  plt.show()\n",
        "\n",
        "def visualize_noisy_reconstruction(input_image, model):\n",
        "  model.eval()\n",
        "\n",
        "  flat_input = input_image.view(1, 1, -1).to(dtype=torch.float32)\n",
        "\n",
        "  # Pass the input through the model to get the output\n",
        "  with torch.no_grad():  # Use no_grad to disable gradient computation for inference\n",
        "      res = model(flat_input)\n",
        "\n",
        "  # Assuming res is a 1D tensor with 784 elements\n",
        "  res = res.view(1, 28, 28)  # Reshape to a 28x28 tensor\n",
        "  res_img = res.cpu().numpy()\n",
        "\n",
        "  fig = plt.figure()\n",
        "  ax1 = plt.subplot(131)\n",
        "  plt.imshow(input_tensor, cmap='gray')\n",
        "  ax1.set_title('Input')\n",
        "  ax2 = plt.subplot(132)\n",
        "  plt.imshow(input_image, cmap='gray')\n",
        "  ax2.set_title('Noise')\n",
        "  ax3 = plt.subplot(133)\n",
        "  plt.imshow(res_img[0], cmap='gray')\n",
        "  ax3.set_title('Reconstruction')\n",
        "  plt.show()\n",
        "\n",
        "  sample_index = 0\n",
        "input_tensor = next(iter(test_loader))\n",
        "input_tensor = input_tensor[0][sample_index, 0, :, :]\n",
        "visualize_number_reconstruction(input_tensor, model)"
      ],
      "metadata": {
        "colab": {
          "base_uri": "https://localhost:8080/",
          "height": 308
        },
        "id": "fGjC8vGai2Su",
        "outputId": "5b95f111-4e17-4bb7-f1ce-dfdf53b8a3aa"
      },
      "execution_count": null,
      "outputs": [
        {
          "output_type": "display_data",
          "data": {
            "text/plain": [
              "<Figure size 640x480 with 2 Axes>"
            ],
            "image/png": "[encoded data removed]"
          },
          "metadata": {}
        }
      ]
    },
    {
      "cell_type": "code",
      "source": [
        "# Set the model to evaluation mode\n",
        "model.eval()\n",
        "\n",
        "# Choose an index for the test sample you want to use\n",
        "sample_index = 12 # Replace this with the index of the sample you want to use\n",
        "\n",
        "input_tensor = next(iter(test_loader))\n",
        "input_tensor = input_tensor[0][sample_index, 0, :, :]\n",
        "\n",
        "plt.imshow(input_tensor, cmap='gray')\n",
        "plt.show()\n",
        "# Flatten and convert the input tensor to the appropriate format\n",
        "flat_input = input_tensor.view(1, 1, -1).to(dtype=torch.float32)\n",
        "\n",
        "# Pass the input through the model to get the output\n",
        "with torch.no_grad():  # Use no_grad to disable gradient computation for inference\n",
        "    res = model(flat_input)\n",
        "\n",
        "# Assuming res is a 1D tensor with 784 elements\n",
        "res = res.view(1, 28, 28)  # Reshape to a 28x28 tensor\n",
        "res_img = res.cpu().numpy()  # Convert the tensor to a NumPy array for display\n",
        "plt.imshow(res_img[0], cmap='gray')\n",
        "plt.show()"
      ],
      "metadata": {
        "colab": {
          "base_uri": "https://localhost:8080/",
          "height": 843
        },
        "id": "UpFbo0X3FFOy",
        "outputId": "a6e0a4a1-a31f-4402-c4b5-de34489c5fbb"
      },
      "execution_count": null,
      "outputs": [
        {
          "output_type": "display_data",
          "data": {
            "text/plain": [
              "<Figure size 640x480 with 1 Axes>"
            ],
            "image/png": "[encoded data removed]"
          },
          "metadata": {}
        },
        {
          "output_type": "display_data",
          "data": {
            "text/plain": [
              "<Figure size 640x480 with 1 Axes>"
            ],
            "image/png": "[encoded data removed]"
          },
          "metadata": {}
        }
      ]
    },
    {
      "cell_type": "markdown",
      "source": [
        "# Remove Noise"
      ],
      "metadata": {
        "id": "5lRlg9nCm3gS"
      }
    },
    {
      "cell_type": "code",
      "source": [
        "def add_noise(input_image):\n",
        "  noise_size = input_image.size()\n",
        "  noise = torch.randn(noise_size)\n",
        "  noisy_image = input_image + noise\n",
        "  return noisy_image\n",
        "\n",
        "sample_index = 0\n",
        "input_tensor = next(iter(test_loader))\n",
        "input_tensor = input_tensor[0][sample_index, 0, :, :]\n",
        "noisy_image = add_noise(input_tensor)\n",
        "visualize_noisy_reconstruction(noisy_image, model)"
      ],
      "metadata": {
        "id": "sNseQXiPcwMK",
        "colab": {
          "base_uri": "https://localhost:8080/",
          "height": 228
        },
        "outputId": "d839e37d-55ea-4a30-8629-6677b49c9a09"
      },
      "execution_count": null,
      "outputs": [
        {
          "output_type": "display_data",
          "data": {
            "text/plain": [
              "<Figure size 640x480 with 3 Axes>"
            ],
            "image/png": "[encoded data removed]"
          },
          "metadata": {}
        }
      ]
    },
    {
      "cell_type": "markdown",
      "source": [
        "# Bottleneck Interpolation"
      ],
      "metadata": {
        "id": "fDsoQqObtXwW"
      }
    },
    {
      "cell_type": "code",
      "source": [
        "def bottleneck_interpolation(image_1, image_2, n_interpolation):\n",
        "\n",
        "  model.eval()\n",
        "\n",
        "  with torch.no_grad():\n",
        "    image_1 = image_1.view(28 * 28).to(dtype=torch.float32)\n",
        "    bottleneck_1 = model.encode(image_1)\n",
        "    bottleneck_1.view(-1)\n",
        "    image_2 = image_2.view(28 * 28).to(dtype=torch.float32)\n",
        "    bottleneck_2 = model.encode(image_2)\n",
        "    bottleneck_2.view(-1)\n",
        "    # print(image_1)\n",
        "\n",
        "  fig = plt.figure()\n",
        "  with torch.no_grad():\n",
        "    for i in range(n_interpolation):\n",
        "      interpolated_bottleneck = bottleneck_1 + (i / n_interpolation) * (bottleneck_2 - bottleneck_1)\n",
        "      # print(interpolated_bottleneck)\n",
        "      res = model.decode(interpolated_bottleneck)\n",
        "\n",
        "      # Assuming res is a 1D tensor with 784 elements\n",
        "      res = res.view(1, 28, 28)  # Reshape to a 28x28 tensor\n",
        "      res_img = res.cpu().numpy()\n",
        "\n",
        "      ax = plt.subplot(1, n_interpolation, i+1)\n",
        "      plt.imshow(res_img[0], cmap='gray')\n",
        "      # ax.set_title('Reconstruction')\n",
        "  plt.show()\n",
        "\n",
        "sample_index_1 = 0\n",
        "sample_index_2 = 10\n",
        "n_interpolation = 10\n",
        "\n",
        "input_tensor = next(iter(test_loader))\n",
        "image_1 = input_tensor[0][sample_index_1, 0, :, :]\n",
        "image_2 = input_tensor[0][sample_index_2, 0, :, :]\n",
        "image_1.size()\n",
        "bottleneck_interpolation(image_1, image_2, n_interpolation)"
      ],
      "metadata": {
        "colab": {
          "base_uri": "https://localhost:8080/",
          "height": 107
        },
        "id": "AHTOg32StdHB",
        "outputId": "73896ab7-3b7c-468a-ddf0-22488127fd86"
      },
      "execution_count": null,
      "outputs": [
        {
          "output_type": "display_data",
          "data": {
            "text/plain": [
              "<Figure size 640x480 with 10 Axes>"
            ],
            "image/png": "[encoded data removed]"
          },
          "metadata": {}
        }
      ]
    }
  ]
}